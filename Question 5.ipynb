{
 "cells": [
  {
   "cell_type": "code",
   "execution_count": 20,
   "id": "99c2575e",
   "metadata": {},
   "outputs": [],
   "source": [
    "import requests\n",
    "from bs4 import BeautifulSoup\n",
    "import pandas as pd"
   ]
  },
  {
   "cell_type": "code",
   "execution_count": 21,
   "id": "edb34271",
   "metadata": {},
   "outputs": [],
   "source": [
    "# URL to scrape\n",
    "url = \"https://www.cnbc.com/world/?region=world\""
   ]
  },
  {
   "cell_type": "code",
   "execution_count": 22,
   "id": "ebd42bc2",
   "metadata": {},
   "outputs": [],
   "source": [
    "# Send a GET request to the URL\n",
    "response = requests.get(url)"
   ]
  },
  {
   "cell_type": "code",
   "execution_count": 23,
   "id": "b9647fda",
   "metadata": {},
   "outputs": [],
   "source": [
    "# Parse the HTML content using BeautifulSoup\n",
    "soup = BeautifulSoup(response.content, \"html.parser\")"
   ]
  },
  {
   "cell_type": "code",
   "execution_count": 24,
   "id": "cb8a4044",
   "metadata": {},
   "outputs": [],
   "source": [
    "# Lists to store scraped data\n",
    "headlines = []\n",
    "times = []\n",
    "news_links = []"
   ]
  },
  {
   "cell_type": "code",
   "execution_count": 27,
   "id": "dadca394",
   "metadata": {},
   "outputs": [],
   "source": [
    "# Loop through each article and extract the required information\n",
    "for article in articles:\n",
    "    headline_elem = article.find(\"a\", class_=\"Card-title\")\n",
    "    time_elem = article.find(\"time\")\n",
    "\n",
    "    if headline_elem is not None and time_elem is not None:\n",
    "        headline = headline_elem.text.strip()\n",
    "        time = time_elem.text.strip()\n",
    "        news_link = \"https://www.cnbc.com\" + headline_elem[\"href\"]\n",
    "\n",
    "        headlines.append(headline)\n",
    "        times.append(time)\n",
    "        news_links.append(news_link)\n",
    "    else:\n",
    "        pass"
   ]
  },
  {
   "cell_type": "code",
   "execution_count": 28,
   "id": "6297eb50",
   "metadata": {},
   "outputs": [],
   "source": [
    "# Create a DataFrame from the collected data\n",
    "data = {\n",
    "    \"Headline\": headlines,\n",
    "    \"Time\": times,\n",
    "    \"News Link\": news_links\n",
    "}\n",
    "\n",
    "df = pd.DataFrame(data)"
   ]
  },
  {
   "cell_type": "code",
   "execution_count": 29,
   "id": "0a5a14f6",
   "metadata": {},
   "outputs": [
    {
     "name": "stdout",
     "output_type": "stream",
     "text": [
      "Empty DataFrame\n",
      "Columns: [Headline, Time, News Link]\n",
      "Index: []\n"
     ]
    }
   ],
   "source": [
    "# Display the DataFrame\n",
    "print(df)"
   ]
  },
  {
   "cell_type": "code",
   "execution_count": null,
   "id": "b03286f2",
   "metadata": {},
   "outputs": [],
   "source": []
  }
 ],
 "metadata": {
  "kernelspec": {
   "display_name": "Python 3 (ipykernel)",
   "language": "python",
   "name": "python3"
  },
  "language_info": {
   "codemirror_mode": {
    "name": "ipython",
    "version": 3
   },
   "file_extension": ".py",
   "mimetype": "text/x-python",
   "name": "python",
   "nbconvert_exporter": "python",
   "pygments_lexer": "ipython3",
   "version": "3.10.9"
  }
 },
 "nbformat": 4,
 "nbformat_minor": 5
}
