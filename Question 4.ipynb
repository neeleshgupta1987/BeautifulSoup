{
 "cells": [
  {
   "cell_type": "code",
   "execution_count": 16,
   "id": "54027cc2",
   "metadata": {},
   "outputs": [],
   "source": [
    "import requests\n",
    "from bs4 import BeautifulSoup\n",
    "import pandas as pd"
   ]
  },
  {
   "cell_type": "code",
   "execution_count": 17,
   "id": "20864381",
   "metadata": {},
   "outputs": [],
   "source": [
    "# Function to scrape data from the given URL\n",
    "def scrape_data(url):\n",
    "    response = requests.get(url)\n",
    "    soup = BeautifulSoup(response.content, 'html.parser')\n",
    "    return soup"
   ]
  },
  {
   "cell_type": "code",
   "execution_count": 18,
   "id": "26a523db",
   "metadata": {},
   "outputs": [],
   "source": [
    "# Function to create dataframes for the provided data\n",
    "def create_dataframe(headers, data):\n",
    "    df = pd.DataFrame(data, columns=headers)\n",
    "    return df"
   ]
  },
  {
   "cell_type": "code",
   "execution_count": 19,
   "id": "e09bff59",
   "metadata": {},
   "outputs": [],
   "source": [
    "# Scrape and create dataframe for top 10 ODI teams\n",
    "def top_10_teams():\n",
    "    url = \"https://www.icc-cricket.com/rankings/womens/team-rankings/odi\"\n",
    "    soup = scrape_data(url)\n",
    "\n",
    "    headers = [\"Rank\", \"Team\", \"Matches\", \"Points\", \"Rating\"]\n",
    "    data = []\n",
    "\n",
    "    team_rows = soup.select(\".table-body tr\")\n",
    "    for row in team_rows:\n",
    "        cols = row.select(\"td\")\n",
    "        rank = cols[0].text.strip()\n",
    "        team = cols[1].text.strip()\n",
    "        matches = cols[2].text.strip()\n",
    "        points = cols[3].text.strip()\n",
    "        rating = cols[4].text.strip()\n",
    "        data.append([rank, team, matches, points, rating])\n",
    "\n",
    "    return create_dataframe(headers, data)"
   ]
  },
  {
   "cell_type": "code",
   "execution_count": 20,
   "id": "24eb942a",
   "metadata": {},
   "outputs": [],
   "source": [
    "# Scrape and create dataframe for top 10 women's ODI batting players\n",
    "def top_10_batting_players():\n",
    "    url = \"https://www.icc-cricket.com/rankings/womens/player-rankings/odi/batting\"\n",
    "    soup = scrape_data(url)\n",
    "\n",
    "    headers = [\"Rank\", \"Player\", \"Team\", \"Rating\"]\n",
    "    data = []\n",
    "\n",
    "    player_rows = soup.select(\".table-body tr\")\n",
    "    for row in player_rows:\n",
    "        cols = row.select(\"td\")\n",
    "        rank = cols[0].text.strip()\n",
    "        player = cols[1].text.strip()\n",
    "        team = cols[2].text.strip()\n",
    "        rating = cols[4].text.strip()\n",
    "        data.append([rank, player, team, rating])\n",
    "\n",
    "    return create_dataframe(headers, data)"
   ]
  },
  {
   "cell_type": "code",
   "execution_count": 21,
   "id": "bec6e6bc",
   "metadata": {},
   "outputs": [
    {
     "name": "stdout",
     "output_type": "stream",
     "text": [
      "Top 10 ODI Teams:\n",
      "Empty DataFrame\n",
      "Columns: [Rank, Team, Matches, Points, Rating]\n",
      "Index: []\n",
      "\n",
      "Top 10 Women's ODI Batting Players:\n",
      "Empty DataFrame\n",
      "Columns: [Rank, Player, Team, Rating]\n",
      "Index: []\n",
      "\n",
      "Top 10 Women's ODI All-rounders:\n",
      "Empty DataFrame\n",
      "Columns: [Rank, Player, Team, Rating]\n",
      "Index: []\n"
     ]
    }
   ],
   "source": [
    "# Scrape and create dataframe for top 10 women's ODI all-rounders\n",
    "def top_10_allrounders():\n",
    "    url = \"https://www.icc-cricket.com/rankings/womens/player-rankings/odi/all-rounder\"\n",
    "    soup = scrape_data(url)\n",
    "\n",
    "    headers = [\"Rank\", \"Player\", \"Team\", \"Rating\"]\n",
    "    data = []\n",
    "\n",
    "    player_rows = soup.select(\".table-body tr\")\n",
    "    for row in player_rows:\n",
    "        cols = row.select(\"td\")\n",
    "        rank = cols[0].text.strip()\n",
    "        player = cols[1].text.strip()\n",
    "        team = cols[2].text.strip()\n",
    "        rating = cols[4].text.strip()\n",
    "        data.append([rank, player, team, rating])\n",
    "\n",
    "    return create_dataframe(headers, data)\n",
    "\n",
    "if __name__ == \"__main__\":\n",
    "    top_teams_df = top_10_teams()\n",
    "    top_batting_players_df = top_10_batting_players()\n",
    "    top_allrounders_df = top_10_allrounders()\n",
    "\n",
    "    print(\"Top 10 ODI Teams:\")\n",
    "    print(top_teams_df)\n",
    "    print(\"\\nTop 10 Women's ODI Batting Players:\")\n",
    "    print(top_batting_players_df)\n",
    "    print(\"\\nTop 10 Women's ODI All-rounders:\")\n",
    "    print(top_allrounders_df)"
   ]
  },
  {
   "cell_type": "code",
   "execution_count": null,
   "id": "c4b7ac90",
   "metadata": {},
   "outputs": [],
   "source": []
  }
 ],
 "metadata": {
  "kernelspec": {
   "display_name": "Python 3 (ipykernel)",
   "language": "python",
   "name": "python3"
  },
  "language_info": {
   "codemirror_mode": {
    "name": "ipython",
    "version": 3
   },
   "file_extension": ".py",
   "mimetype": "text/x-python",
   "name": "python",
   "nbconvert_exporter": "python",
   "pygments_lexer": "ipython3",
   "version": "3.10.9"
  }
 },
 "nbformat": 4,
 "nbformat_minor": 5
}
