{
 "cells": [
  {
   "cell_type": "code",
   "execution_count": 1,
   "id": "095d752e",
   "metadata": {},
   "outputs": [],
   "source": [
    "import requests\n",
    "from bs4 import BeautifulSoup\n",
    "import pandas as pd"
   ]
  },
  {
   "cell_type": "code",
   "execution_count": 2,
   "id": "21ca4179",
   "metadata": {},
   "outputs": [],
   "source": [
    "# URL for the ODI Men's Cricket Team Rankings\n",
    "url_teams = \"https://www.icc-cricket.com/rankings/mens/team-rankings/odi\""
   ]
  },
  {
   "cell_type": "code",
   "execution_count": 3,
   "id": "b65518ed",
   "metadata": {},
   "outputs": [],
   "source": [
    "# Send a GET request to the URL\n",
    "response_teams = requests.get(url_teams)"
   ]
  },
  {
   "cell_type": "code",
   "execution_count": 4,
   "id": "eae78862",
   "metadata": {},
   "outputs": [],
   "source": [
    "# Parse the HTML content using BeautifulSoup\n",
    "soup_teams = BeautifulSoup(response_teams.content, \"html.parser\")"
   ]
  },
  {
   "cell_type": "code",
   "execution_count": 5,
   "id": "1f544eba",
   "metadata": {},
   "outputs": [],
   "source": [
    "# Find the table containing the team rankings\n",
    "teams_table = soup_teams.find(\"table\", class_=\"table\")"
   ]
  },
  {
   "cell_type": "code",
   "execution_count": 6,
   "id": "737513c3",
   "metadata": {},
   "outputs": [],
   "source": [
    "# Lists to store the scraped data\n",
    "teams_data = []"
   ]
  },
  {
   "cell_type": "code",
   "execution_count": 7,
   "id": "28a2c10b",
   "metadata": {},
   "outputs": [],
   "source": [
    "# Extract data for each row in the table\n",
    "for row in teams_table.find_all(\"tr\")[1:]:\n",
    "    cells = row.find_all(\"td\")\n",
    "    team_rank = cells[0].text.strip()\n",
    "    team_name = cells[1].text.strip()\n",
    "    team_matches = cells[2].text.strip()\n",
    "    team_points = cells[3].text.strip()\n",
    "    team_rating = cells[4].text.strip()\n",
    "    teams_data.append([team_rank, team_name, team_matches, team_points, team_rating])"
   ]
  },
  {
   "cell_type": "code",
   "execution_count": 8,
   "id": "a2bdecb0",
   "metadata": {},
   "outputs": [],
   "source": [
    "# Create a data frame for ODI teams\n",
    "teams_df = pd.DataFrame(teams_data, columns=[\"Rank\", \"Team\", \"Matches\", \"Points\", \"Rating\"])"
   ]
  },
  {
   "cell_type": "code",
   "execution_count": 9,
   "id": "628c6834",
   "metadata": {},
   "outputs": [
    {
     "name": "stdout",
     "output_type": "stream",
     "text": [
      "Top 10 ODI Teams:\n",
      "  Rank              Team Matches Points Rating\n",
      "0    1    Australia\\nAUS      23  2,714    118\n",
      "1    2     Pakistan\\nPAK      20  2,316    116\n",
      "2    3        India\\nIND      36  4,081    113\n",
      "3    4   New Zealand\\nNZ      27  2,806    104\n",
      "4    5      England\\nENG      24  2,426    101\n",
      "5    6  South Africa\\nSA      19  1,910    101\n",
      "6    7   Bangladesh\\nBAN      28  2,661     95\n",
      "7    8  Afghanistan\\nAFG      16  1,404     88\n",
      "8    9     Sri Lanka\\nSL      32  2,794     87\n",
      "9   10   West Indies\\nWI      38  2,582     68\n"
     ]
    }
   ],
   "source": [
    "# Display the top 10 ODI teams\n",
    "print(\"Top 10 ODI Teams:\")\n",
    "print(teams_df.head(10))"
   ]
  },
  {
   "cell_type": "code",
   "execution_count": 10,
   "id": "fc864272",
   "metadata": {},
   "outputs": [],
   "source": [
    "# URL for the ODI Men's Batsmen Rankings\n",
    "url_batsmen = \"https://www.icc-cricket.com/rankings/mens/player-rankings/odi/batting\""
   ]
  },
  {
   "cell_type": "code",
   "execution_count": 12,
   "id": "c4b8b941",
   "metadata": {},
   "outputs": [],
   "source": [
    "# Send a GET request to the URL\n",
    "response_batsmen=requests.get(url_batsmen)"
   ]
  },
  {
   "cell_type": "code",
   "execution_count": 13,
   "id": "7ecfaeb1",
   "metadata": {},
   "outputs": [],
   "source": [
    "# Parse the HTML content using BeautifulSoup\n",
    "soup_batsmen = BeautifulSoup(response_batsmen.content, \"html.parser\")"
   ]
  },
  {
   "cell_type": "code",
   "execution_count": 14,
   "id": "c9978c1c",
   "metadata": {},
   "outputs": [],
   "source": [
    "# Find the table containing the batsmen rankings\n",
    "batsmen_table = soup_batsmen.find(\"table\", class_=\"table\")"
   ]
  },
  {
   "cell_type": "code",
   "execution_count": 15,
   "id": "6a7c086c",
   "metadata": {},
   "outputs": [],
   "source": [
    "# Lists to store the scraped data\n",
    "batsmen_data = []"
   ]
  },
  {
   "cell_type": "code",
   "execution_count": 16,
   "id": "891ada5a",
   "metadata": {},
   "outputs": [],
   "source": [
    "# Extract data for each row in the table\n",
    "for row in batsmen_table.find_all(\"tr\")[1:]:\n",
    "    cells = row.find_all(\"td\")\n",
    "    batsman_rank = cells[0].text.strip()\n",
    "    batsman_name = cells[1].text.strip()\n",
    "    batsman_team = cells[2].text.strip()\n",
    "    batsman_rating = cells[3].text.strip()\n",
    "    batsmen_data.append([batsman_rank, batsman_name, batsman_team, batsman_rating])"
   ]
  },
  {
   "cell_type": "code",
   "execution_count": 17,
   "id": "5976ca35",
   "metadata": {},
   "outputs": [],
   "source": [
    "# Create a data frame for ODI batsmen\n",
    "batsmen_df = pd.DataFrame(batsmen_data, columns=[\"Rank\", \"Batsman\", \"Team\", \"Rating\"])"
   ]
  },
  {
   "cell_type": "code",
   "execution_count": 18,
   "id": "228767a1",
   "metadata": {},
   "outputs": [
    {
     "name": "stdout",
     "output_type": "stream",
     "text": [
      "\n",
      "Top 10 ODI Batsmen:\n",
      "                                                Rank                Batsman  \\\n",
      "0               1\\n                        \\n\\n\\n(0)             Babar Azam   \n",
      "1       2\\n                                \\n\\n\\n(0)  Rassie van der Dussen   \n",
      "2       3\\n                                \\n\\n\\n(0)           Fakhar Zaman   \n",
      "3       4\\n                                \\n\\n\\n(0)            Imam-ul-Haq   \n",
      "4  5\\n                                \\n\\n\\n\\n\\n(...           Shubman Gill   \n",
      "5  6\\n                                \\n\\n\\n\\n\\n(...           Harry Tector   \n",
      "6  =\\n                                \\n\\n\\n\\n\\n(...           David Warner   \n",
      "7       8\\n                                \\n\\n\\n(0)        Quinton de Kock   \n",
      "8       9\\n                                \\n\\n\\n(0)            Virat Kohli   \n",
      "9      10\\n                                \\n\\n\\n(0)            Steve Smith   \n",
      "\n",
      "  Team Rating  \n",
      "0  PAK    886  \n",
      "1   SA    777  \n",
      "2  PAK    755  \n",
      "3  PAK    745  \n",
      "4  IND    743  \n",
      "5  IRE    726  \n",
      "6  AUS    726  \n",
      "7   SA    718  \n",
      "8  IND    705  \n",
      "9  AUS    702  \n"
     ]
    }
   ],
   "source": [
    "# Display the top 10 ODI batsmen\n",
    "print(\"\\nTop 10 ODI Batsmen:\")\n",
    "print(batsmen_df.head(10))"
   ]
  },
  {
   "cell_type": "code",
   "execution_count": 19,
   "id": "918c4eb7",
   "metadata": {},
   "outputs": [],
   "source": [
    "# URL for the ODI Men's Bowlers Rankings\n",
    "url_bowlers = \"https://www.icc-cricket.com/rankings/mens/player-rankings/odi/bowling\""
   ]
  },
  {
   "cell_type": "code",
   "execution_count": 20,
   "id": "803ee084",
   "metadata": {},
   "outputs": [],
   "source": [
    "# Send a GET request to the URL\n",
    "response_bowlers = requests.get(url_bowlers)"
   ]
  },
  {
   "cell_type": "code",
   "execution_count": 21,
   "id": "3e3983e8",
   "metadata": {},
   "outputs": [],
   "source": [
    "# Parse the HTML content using BeautifulSoup\n",
    "soup_bowlers = BeautifulSoup(response_bowlers.content, \"html.parser\")"
   ]
  },
  {
   "cell_type": "code",
   "execution_count": 22,
   "id": "3541b957",
   "metadata": {},
   "outputs": [],
   "source": [
    "# Find the table containing the bowlers rankings\n",
    "bowlers_table = soup_bowlers.find(\"table\", class_=\"table\")"
   ]
  },
  {
   "cell_type": "code",
   "execution_count": 23,
   "id": "194031e0",
   "metadata": {},
   "outputs": [],
   "source": [
    "# Lists to store the scraped data\n",
    "bowlers_data = []"
   ]
  },
  {
   "cell_type": "code",
   "execution_count": 24,
   "id": "7032d7f3",
   "metadata": {},
   "outputs": [],
   "source": [
    "# Extract data for each row in the table\n",
    "for row in bowlers_table.find_all(\"tr\")[1:]:\n",
    "    cells = row.find_all(\"td\")\n",
    "    bowler_rank = cells[0].text.strip()\n",
    "    bowler_name = cells[1].text.strip()\n",
    "    bowler_team = cells[2].text.strip()\n",
    "    bowler_rating = cells[3].text.strip()\n",
    "    bowlers_data.append([bowler_rank, bowler_name, bowler_team, bowler_rating])"
   ]
  },
  {
   "cell_type": "code",
   "execution_count": 25,
   "id": "e17302ab",
   "metadata": {},
   "outputs": [],
   "source": [
    "# Create a data frame for ODI bowlers\n",
    "bowlers_df = pd.DataFrame(bowlers_data, columns=[\"Rank\", \"Bowler\", \"Team\", \"Rating\"])"
   ]
  },
  {
   "cell_type": "code",
   "execution_count": 26,
   "id": "8d292be0",
   "metadata": {},
   "outputs": [
    {
     "name": "stdout",
     "output_type": "stream",
     "text": [
      "\n",
      "Top 10 ODI Bowlers:\n",
      "                                                Rank            Bowler Team  \\\n",
      "0               1\\n                        \\n\\n\\n(0)    Josh Hazlewood  AUS   \n",
      "1       2\\n                                \\n\\n\\n(0)    Mitchell Starc  AUS   \n",
      "2       3\\n                                \\n\\n\\n(0)       Rashid Khan  AFG   \n",
      "3       4\\n                                \\n\\n\\n(0)    Mohammed Siraj  IND   \n",
      "4       5\\n                                \\n\\n\\n(0)        Matt Henry   NZ   \n",
      "5       6\\n                                \\n\\n\\n(0)  Mujeeb Ur Rahman  AFG   \n",
      "6       7\\n                                \\n\\n\\n(0)       Trent Boult   NZ   \n",
      "7       8\\n                                \\n\\n\\n(0)        Adam Zampa  AUS   \n",
      "8       9\\n                                \\n\\n\\n(0)    Shaheen Afridi  PAK   \n",
      "9  10\\n                                \\n\\n\\n\\n\\n...     Kuldeep Yadav  IND   \n",
      "\n",
      "  Rating  \n",
      "0    705  \n",
      "1    686  \n",
      "2    682  \n",
      "3    670  \n",
      "4    667  \n",
      "5    661  \n",
      "6    660  \n",
      "7    652  \n",
      "8    630  \n",
      "9    622  \n"
     ]
    }
   ],
   "source": [
    "# Display the top 10 ODI bowlers\n",
    "print(\"\\nTop 10 ODI Bowlers:\")\n",
    "print(bowlers_df.head(10))"
   ]
  },
  {
   "cell_type": "code",
   "execution_count": null,
   "id": "960745d4",
   "metadata": {},
   "outputs": [],
   "source": []
  }
 ],
 "metadata": {
  "kernelspec": {
   "display_name": "Python 3 (ipykernel)",
   "language": "python",
   "name": "python3"
  },
  "language_info": {
   "codemirror_mode": {
    "name": "ipython",
    "version": 3
   },
   "file_extension": ".py",
   "mimetype": "text/x-python",
   "name": "python",
   "nbconvert_exporter": "python",
   "pygments_lexer": "ipython3",
   "version": "3.10.9"
  }
 },
 "nbformat": 4,
 "nbformat_minor": 5
}
