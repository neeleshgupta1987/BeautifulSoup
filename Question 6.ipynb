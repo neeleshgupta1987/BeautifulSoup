{
 "cells": [
  {
   "cell_type": "code",
   "execution_count": 13,
   "id": "3fc86f2e",
   "metadata": {},
   "outputs": [],
   "source": [
    "import requests\n",
    "from bs4 import BeautifulSoup\n",
    "import pandas as pd"
   ]
  },
  {
   "cell_type": "code",
   "execution_count": 14,
   "id": "b3418510",
   "metadata": {},
   "outputs": [],
   "source": [
    "# URL of the most downloaded articles page\n",
    "url = \"https://www.journals.elsevier.com/artificial-intelligence/most-downloaded-articles\""
   ]
  },
  {
   "cell_type": "code",
   "execution_count": 15,
   "id": "da4a6e5d",
   "metadata": {},
   "outputs": [],
   "source": [
    "# Send a GET request to the URL and get the content\n",
    "response = requests.get(url)\n",
    "content = response.content"
   ]
  },
  {
   "cell_type": "code",
   "execution_count": 16,
   "id": "2fff2738",
   "metadata": {},
   "outputs": [],
   "source": [
    "# Create a BeautifulSoup object to parse the content\n",
    "soup = BeautifulSoup(content, \"html.parser\")"
   ]
  },
  {
   "cell_type": "code",
   "execution_count": 17,
   "id": "cc72777b",
   "metadata": {},
   "outputs": [],
   "source": [
    "# Find all the article details on the page\n",
    "articles = soup.find_all(\"li\", class_=\"js-article-list-item\")"
   ]
  },
  {
   "cell_type": "code",
   "execution_count": 18,
   "id": "f5512a63",
   "metadata": {},
   "outputs": [],
   "source": [
    "# Lists to store scraped data\n",
    "paper_titles = []\n",
    "authors_list = []\n",
    "published_dates = []\n",
    "paper_urls = []"
   ]
  },
  {
   "cell_type": "code",
   "execution_count": 19,
   "id": "987d7de0",
   "metadata": {},
   "outputs": [],
   "source": [
    "# Loop through each article and extract the required information\n",
    "for article in articles:\n",
    "    paper_title = article.find(\"h2\", class_=\"pod-article-title\").text.strip()\n",
    "    authors = [author.text.strip() for author in article.find_all(\"span\", class_=\"pod-authors__name\")]\n",
    "    published_date = article.find(\"span\", class_=\"js-article-history-date\").text.strip()\n",
    "    paper_url = article.find(\"a\", class_=\"pod-article-link\")[\"href\"]\n",
    "    \n",
    "    paper_titles.append(paper_title)\n",
    "    authors_list.append(authors)\n",
    "    published_dates.append(published_date)\n",
    "    paper_urls.append(paper_url)"
   ]
  },
  {
   "cell_type": "code",
   "execution_count": 20,
   "id": "792122b9",
   "metadata": {},
   "outputs": [],
   "source": [
    "# Create a DataFrame from the scraped data\n",
    "data = {\n",
    "    \"Paper Title\": paper_titles,\n",
    "    \"Authors\": authors_list,\n",
    "    \"Published Date\": published_dates,\n",
    "    \"Paper URL\": paper_urls\n",
    "}\n",
    "\n",
    "df = pd.DataFrame(data)"
   ]
  },
  {
   "cell_type": "code",
   "execution_count": 21,
   "id": "b9c105a2",
   "metadata": {},
   "outputs": [
    {
     "name": "stdout",
     "output_type": "stream",
     "text": [
      "Empty DataFrame\n",
      "Columns: [Paper Title, Authors, Published Date, Paper URL]\n",
      "Index: []\n"
     ]
    }
   ],
   "source": [
    "# Display the DataFrame\n",
    "print(df)"
   ]
  },
  {
   "cell_type": "code",
   "execution_count": null,
   "id": "813eb652",
   "metadata": {},
   "outputs": [],
   "source": []
  }
 ],
 "metadata": {
  "kernelspec": {
   "display_name": "Python 3 (ipykernel)",
   "language": "python",
   "name": "python3"
  },
  "language_info": {
   "codemirror_mode": {
    "name": "ipython",
    "version": 3
   },
   "file_extension": ".py",
   "mimetype": "text/x-python",
   "name": "python",
   "nbconvert_exporter": "python",
   "pygments_lexer": "ipython3",
   "version": "3.10.9"
  }
 },
 "nbformat": 4,
 "nbformat_minor": 5
}
