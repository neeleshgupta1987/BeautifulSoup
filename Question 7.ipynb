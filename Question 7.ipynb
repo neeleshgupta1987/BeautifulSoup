{
 "cells": [
  {
   "cell_type": "code",
   "execution_count": 6,
   "id": "ae1063ec",
   "metadata": {},
   "outputs": [],
   "source": [
    "import requests\n",
    "from bs4 import BeautifulSoup\n",
    "import pandas as pd"
   ]
  },
  {
   "cell_type": "code",
   "execution_count": 7,
   "id": "9ea70e34",
   "metadata": {},
   "outputs": [],
   "source": [
    "# URL to scrape\n",
    "url = \"https://www.dineout.co.in/\""
   ]
  },
  {
   "cell_type": "code",
   "execution_count": 9,
   "id": "94e6c6c0",
   "metadata": {},
   "outputs": [],
   "source": [
    "# Send an HTTP GET request to the URL\n",
    "response=requests.get(url)"
   ]
  },
  {
   "cell_type": "code",
   "execution_count": 10,
   "id": "13911bc7",
   "metadata": {},
   "outputs": [],
   "source": [
    "# Parse the HTML content using BeautifulSoup\n",
    "soup = BeautifulSoup(response.content, \"html.parser\")"
   ]
  },
  {
   "cell_type": "code",
   "execution_count": 11,
   "id": "8b131653",
   "metadata": {},
   "outputs": [],
   "source": [
    "# Initialize lists to store scraped data\n",
    "restaurant_names = []\n",
    "cuisines = []\n",
    "locations = []\n",
    "ratings = []\n",
    "image_urls = []"
   ]
  },
  {
   "cell_type": "code",
   "execution_count": 12,
   "id": "b8c1a153",
   "metadata": {},
   "outputs": [],
   "source": [
    "# Find all restaurant cards\n",
    "restaurant_cards = soup.find_all(\"div\", class_=\"restaurant-card\")"
   ]
  },
  {
   "cell_type": "code",
   "execution_count": 13,
   "id": "e9d29d7e",
   "metadata": {},
   "outputs": [],
   "source": [
    "# Loop through each restaurant card and extract the required information\n",
    "for card in restaurant_cards:\n",
    "    # Restaurant name\n",
    "    restaurant_name = card.find(\"h2\", class_=\"restnt-name\").text.strip()\n",
    "    restaurant_names.append(restaurant_name)\n",
    "\n",
    "    # Cuisine\n",
    "    cuisine = card.find(\"p\", class_=\"restnt-cuisine\").text.strip()\n",
    "    cuisines.append(cuisine)\n",
    "\n",
    "    # Location\n",
    "    location = card.find(\"span\", class_=\"restnt-loc\").text.strip()\n",
    "    locations.append(location)\n",
    "\n",
    "    # Ratings\n",
    "    rating = card.find(\"span\", class_=\"rating\").text.strip()\n",
    "    ratings.append(rating)\n",
    "\n",
    "    # Image URL\n",
    "    img_url = card.find(\"div\", class_=\"restnt-thumbnail\").img[\"src\"]\n",
    "    image_urls.append(img_url)"
   ]
  },
  {
   "cell_type": "code",
   "execution_count": 17,
   "id": "637eb0e6",
   "metadata": {},
   "outputs": [],
   "source": [
    "# Create a DataFrame\n",
    "data = {\n",
    "    \"Restaurant Name\": restaurant_names,\n",
    "    \"Cuisine\": cuisines,\n",
    "    \"Location\": locations,\n",
    "    \"Ratings\": ratings,\n",
    "    \"Image URL\": image_urls\n",
    "}\n",
    "\n",
    "df = pd.DataFrame(data)"
   ]
  },
  {
   "cell_type": "code",
   "execution_count": 18,
   "id": "97c087cf",
   "metadata": {},
   "outputs": [
    {
     "name": "stdout",
     "output_type": "stream",
     "text": [
      "Empty DataFrame\n",
      "Columns: [Restaurant Name, Cuisine, Location, Ratings, Image URL]\n",
      "Index: []\n"
     ]
    }
   ],
   "source": [
    "# Print the DataFrame\n",
    "print(df)"
   ]
  },
  {
   "cell_type": "code",
   "execution_count": null,
   "id": "496b3717",
   "metadata": {},
   "outputs": [],
   "source": []
  }
 ],
 "metadata": {
  "kernelspec": {
   "display_name": "Python 3 (ipykernel)",
   "language": "python",
   "name": "python3"
  },
  "language_info": {
   "codemirror_mode": {
    "name": "ipython",
    "version": 3
   },
   "file_extension": ".py",
   "mimetype": "text/x-python",
   "name": "python",
   "nbconvert_exporter": "python",
   "pygments_lexer": "ipython3",
   "version": "3.10.9"
  }
 },
 "nbformat": 4,
 "nbformat_minor": 5
}
